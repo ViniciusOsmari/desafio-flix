{
 "cells": [
  {
   "cell_type": "markdown",
   "id": "6ea2cd95",
   "metadata": {},
   "source": [
    "# Bibliotecas e variáveis"
   ]
  },
  {
   "cell_type": "code",
   "execution_count": 1,
   "id": "bcd74513",
   "metadata": {},
   "outputs": [],
   "source": [
    "from pyspark.sql import SparkSession\n",
    "from pyspark.sql import SQLContext\n",
    "from pyspark.sql.types import *\n",
    "from pyspark.sql.functions import *\n",
    "import os\n",
    "import re"
   ]
  },
  {
   "cell_type": "code",
   "execution_count": 2,
   "id": "8f94f84a",
   "metadata": {},
   "outputs": [],
   "source": [
    "if __name__ == '__main__':\n",
    "    scSpark = SparkSession \\\n",
    "        .builder \\\n",
    "        .appName('5Gflix') \\\n",
    "        .getOrCreate()"
   ]
  },
  {
   "cell_type": "code",
   "execution_count": 3,
   "id": "c3484ccd",
   "metadata": {},
   "outputs": [],
   "source": [
    "path_raw = '.\\\\raw'\n",
    "path_refined = '.\\\\refined'\n",
    "path_trusted = '.\\\\trusted'"
   ]
  },
  {
   "cell_type": "markdown",
   "id": "57753688",
   "metadata": {},
   "source": [
    "# Importação e transformação de dados"
   ]
  },
  {
   "cell_type": "markdown",
   "id": "7b311056",
   "metadata": {},
   "source": [
    "## Netflix - Avaliações"
   ]
  },
  {
   "cell_type": "markdown",
   "id": "09daf090",
   "metadata": {},
   "source": [
    "Identificação dos nomes dos arquivos de avaliações do dataset"
   ]
  },
  {
   "cell_type": "code",
   "execution_count": 4,
   "id": "23cacee1",
   "metadata": {},
   "outputs": [],
   "source": [
    "ds_netflix_file_list = []\n",
    "\n",
    "for filename in os.listdir(path_raw + '\\\\netflix'):\n",
    "    if (re.search('^combined_data.*.txt$', filename) is not None):\n",
    "        ds_netflix_file_list.append(path_raw + '\\\\netflix' + '\\\\' + filename)"
   ]
  },
  {
   "cell_type": "markdown",
   "id": "911a8d73",
   "metadata": {},
   "source": [
    "Agrupando os quatro arquivos do dataset em um, com a criação de uma coluna com o código do filme"
   ]
  },
  {
   "cell_type": "code",
   "execution_count": 5,
   "id": "ef722104",
   "metadata": {
    "scrolled": true
   },
   "outputs": [
    {
     "name": "stdout",
     "output_type": "stream",
     "text": [
      "Wall time: 0 ns\n"
     ]
    }
   ],
   "source": [
    "%%time\n",
    "if not os.path.isfile(path_refined + '\\\\netflix_rating.csv'):\n",
    "    with open(path_refined + '\\\\netflix_rating.csv', 'w+') as combined_file:\n",
    "        combined_file.write('movie_id,user_id,rating,date\\n')\n",
    "        for file_name in ds_netflix_file_list:\n",
    "            with open(file_name, 'r') as file:\n",
    "                for _, line in enumerate(file):\n",
    "                    if ':' in line:\n",
    "                        movie_id = line.replace(':', '').replace('\\n', '')\n",
    "                    else:\n",
    "                        combined_file.write(movie_id + ',' + line)\n",
    "            file.close()\n",
    "        combined_file.close()"
   ]
  },
  {
   "cell_type": "markdown",
   "id": "7e0932cc",
   "metadata": {},
   "source": [
    "Criação de DF de avaliação a partir do dataset"
   ]
  },
  {
   "cell_type": "code",
   "execution_count": 6,
   "id": "af8cee8f",
   "metadata": {},
   "outputs": [],
   "source": [
    "schema_netflix_rating = StructType([ \\\n",
    "    StructField('movie_id', IntegerType(), True),\n",
    "    StructField('user_id', IntegerType(), True),\n",
    "    StructField('rating', IntegerType(), True),\n",
    "    StructField('date', DateType(), True)\n",
    "])"
   ]
  },
  {
   "cell_type": "code",
   "execution_count": 7,
   "id": "4f67b5c3",
   "metadata": {},
   "outputs": [
    {
     "name": "stdout",
     "output_type": "stream",
     "text": [
      "+--------+-------+------+----------+\n",
      "|movie_id|user_id|rating|      date|\n",
      "+--------+-------+------+----------+\n",
      "|       1|1488844|     3|2005-09-06|\n",
      "|       1| 822109|     5|2005-05-13|\n",
      "|       1| 885013|     4|2005-10-19|\n",
      "|       1|  30878|     4|2005-12-26|\n",
      "|       1| 823519|     3|2004-05-03|\n",
      "|       1| 893988|     3|2005-11-17|\n",
      "|       1| 124105|     4|2004-08-05|\n",
      "|       1|1248029|     3|2004-04-22|\n",
      "|       1|1842128|     4|2004-05-09|\n",
      "|       1|2238063|     3|2005-05-11|\n",
      "+--------+-------+------+----------+\n",
      "only showing top 10 rows\n",
      "\n"
     ]
    }
   ],
   "source": [
    "df_netflix_rating = scSpark.read.csv(path_refined + '\\\\netflix_rating.csv',\n",
    "    schema=schema_netflix_rating, header=True, sep=',').cache()\n",
    "df_netflix_rating.show(10)"
   ]
  },
  {
   "cell_type": "markdown",
   "id": "743b1622",
   "metadata": {},
   "source": [
    "Removendo colunas desnecessárias para a análise"
   ]
  },
  {
   "cell_type": "code",
   "execution_count": 8,
   "id": "1f1000d9",
   "metadata": {},
   "outputs": [],
   "source": [
    "df_netflix_rating = df_netflix_rating.drop(col('user_id'))\n",
    "df_netflix_rating = df_netflix_rating.drop(col('date'))"
   ]
  },
  {
   "cell_type": "code",
   "execution_count": 9,
   "id": "f4fc0001",
   "metadata": {},
   "outputs": [
    {
     "name": "stdout",
     "output_type": "stream",
     "text": [
      "+--------+------+\n",
      "|movie_id|rating|\n",
      "+--------+------+\n",
      "|       1|     3|\n",
      "|       1|     5|\n",
      "|       1|     4|\n",
      "|       1|     4|\n",
      "|       1|     3|\n",
      "|       1|     3|\n",
      "|       1|     4|\n",
      "|       1|     3|\n",
      "|       1|     4|\n",
      "|       1|     3|\n",
      "+--------+------+\n",
      "only showing top 10 rows\n",
      "\n"
     ]
    }
   ],
   "source": [
    "df_netflix_rating.show(10)"
   ]
  },
  {
   "cell_type": "code",
   "execution_count": 10,
   "id": "358b4c9b",
   "metadata": {},
   "outputs": [
    {
     "name": "stdout",
     "output_type": "stream",
     "text": [
      "root\n",
      " |-- movie_id: integer (nullable = true)\n",
      " |-- rating: integer (nullable = true)\n",
      "\n"
     ]
    }
   ],
   "source": [
    "df_netflix_rating.printSchema()"
   ]
  },
  {
   "cell_type": "markdown",
   "id": "bbcdb0d0",
   "metadata": {},
   "source": [
    "Criação de DF com avaliação média e quantidade de votos por filme"
   ]
  },
  {
   "cell_type": "code",
   "execution_count": 29,
   "id": "6e2777f7",
   "metadata": {},
   "outputs": [],
   "source": [
    "df_netflix_rating_avg = (df_netflix_rating\n",
    "    .groupBy(col('movie_id'))\n",
    "    .agg(round(avg('rating'),1).alias('rating_avg'),\n",
    "    count('rating').alias('qty_rating'))\n",
    ")"
   ]
  },
  {
   "cell_type": "code",
   "execution_count": 30,
   "id": "b9919e1d",
   "metadata": {},
   "outputs": [
    {
     "name": "stdout",
     "output_type": "stream",
     "text": [
      "root\n",
      " |-- movie_id: integer (nullable = true)\n",
      " |-- rating_avg: double (nullable = true)\n",
      " |-- qty_rating: long (nullable = false)\n",
      "\n"
     ]
    }
   ],
   "source": [
    "df_netflix_rating_avg.printSchema()"
   ]
  },
  {
   "cell_type": "code",
   "execution_count": 31,
   "id": "42d2429f",
   "metadata": {},
   "outputs": [],
   "source": [
    "df_netflix_rating_avg = df_netflix_rating_avg.orderBy(col('movie_id'))"
   ]
  },
  {
   "cell_type": "code",
   "execution_count": 32,
   "id": "8fb0ca94",
   "metadata": {},
   "outputs": [
    {
     "name": "stdout",
     "output_type": "stream",
     "text": [
      "+--------+----------+----------+\n",
      "|movie_id|rating_avg|qty_rating|\n",
      "+--------+----------+----------+\n",
      "|       1|       3.7|       547|\n",
      "|       2|       3.6|       145|\n",
      "|       3|       3.6|      2012|\n",
      "|       4|       2.7|       142|\n",
      "|       5|       3.9|      1140|\n",
      "|       6|       3.1|      1019|\n",
      "|       7|       2.1|        93|\n",
      "|       8|       3.2|     14910|\n",
      "|       9|       2.6|        95|\n",
      "|      10|       3.2|       249|\n",
      "+--------+----------+----------+\n",
      "only showing top 10 rows\n",
      "\n"
     ]
    }
   ],
   "source": [
    "df_netflix_rating_avg.show(10)"
   ]
  },
  {
   "cell_type": "markdown",
   "id": "91ab13dd",
   "metadata": {},
   "source": [
    "## Netflix - Catálogo"
   ]
  },
  {
   "cell_type": "markdown",
   "id": "059d6b60",
   "metadata": {},
   "source": [
    "Criação de DF com informações de código, ano e título dos filmes do catálogo da Netflix"
   ]
  },
  {
   "cell_type": "code",
   "execution_count": 19,
   "id": "f564832d",
   "metadata": {},
   "outputs": [],
   "source": [
    "schema_netflix_catalog = StructType([ \\\n",
    "    StructField('movie_id', IntegerType(), False),\n",
    "    StructField('year', IntegerType(), False),\n",
    "    StructField('movie_title', StringType(), False)\n",
    "])"
   ]
  },
  {
   "cell_type": "code",
   "execution_count": 20,
   "id": "ffd37e5c",
   "metadata": {},
   "outputs": [
    {
     "name": "stdout",
     "output_type": "stream",
     "text": [
      "+--------+----+----------------------------+\n",
      "|movie_id|year|movie_title                 |\n",
      "+--------+----+----------------------------+\n",
      "|1       |2003|Dinosaur Planet             |\n",
      "|2       |2004|Isle of Man TT 2004 Review  |\n",
      "|3       |1997|Character                   |\n",
      "|4       |1994|Paula Abdul's Get Up & Dance|\n",
      "|5       |2004|The Rise and Fall of ECW    |\n",
      "|6       |1997|Sick                        |\n",
      "|7       |1992|8 Man                       |\n",
      "|8       |2004|What the #$*! Do We Know!?  |\n",
      "|9       |1991|Class of Nuke 'Em High 2    |\n",
      "|10      |2001|Fighter                     |\n",
      "+--------+----+----------------------------+\n",
      "only showing top 10 rows\n",
      "\n"
     ]
    }
   ],
   "source": [
    "df_netflix_catalog = scSpark.read.csv(path_raw + '\\\\netflix\\\\movie_titles.csv', schema=schema_netflix_catalog, sep=',')\n",
    "df_netflix_catalog.show(10, truncate=False)"
   ]
  },
  {
   "cell_type": "markdown",
   "id": "4fba24f1",
   "metadata": {},
   "source": [
    "Limpeza do campo título"
   ]
  },
  {
   "cell_type": "code",
   "execution_count": 21,
   "id": "f4dd3fb2",
   "metadata": {
    "scrolled": true
   },
   "outputs": [],
   "source": [
    "# Alterando título para lower case\n",
    "df_netflix_catalog = df_netflix_catalog.withColumn('movie_title', lower(col('movie_title')))\n",
    "\n",
    "# Remoção de espaços duplos\n",
    "df_netflix_catalog = df_netflix_catalog.withColumn('movie_title', regexp_replace('movie_title', '  ', ' '))\n",
    "\n",
    "# Remoção de espaços no inicío e fim\n",
    "df_netflix_catalog = df_netflix_catalog.withColumn('movie_title', trim(col('movie_title')))"
   ]
  },
  {
   "cell_type": "code",
   "execution_count": 22,
   "id": "a492968b",
   "metadata": {},
   "outputs": [
    {
     "name": "stdout",
     "output_type": "stream",
     "text": [
      "+--------+----+----------------------------+\n",
      "|movie_id|year|movie_title                 |\n",
      "+--------+----+----------------------------+\n",
      "|1       |2003|dinosaur planet             |\n",
      "|2       |2004|isle of man tt 2004 review  |\n",
      "|3       |1997|character                   |\n",
      "|4       |1994|paula abdul's get up & dance|\n",
      "|5       |2004|the rise and fall of ecw    |\n",
      "|6       |1997|sick                        |\n",
      "|7       |1992|8 man                       |\n",
      "|8       |2004|what the #$*! do we know!?  |\n",
      "|9       |1991|class of nuke 'em high 2    |\n",
      "|10      |2001|fighter                     |\n",
      "+--------+----+----------------------------+\n",
      "only showing top 10 rows\n",
      "\n"
     ]
    }
   ],
   "source": [
    "df_netflix_catalog.show(10, truncate=False)"
   ]
  },
  {
   "cell_type": "code",
   "execution_count": 23,
   "id": "72ad7b3a",
   "metadata": {},
   "outputs": [
    {
     "name": "stdout",
     "output_type": "stream",
     "text": [
      "root\n",
      " |-- movie_id: integer (nullable = true)\n",
      " |-- year: integer (nullable = true)\n",
      " |-- movie_title: string (nullable = true)\n",
      "\n"
     ]
    }
   ],
   "source": [
    "df_netflix_catalog.printSchema()"
   ]
  },
  {
   "cell_type": "markdown",
   "id": "14da28fd",
   "metadata": {},
   "source": [
    "Quantidade de filmes no catálogo da Netflix"
   ]
  },
  {
   "cell_type": "code",
   "execution_count": 24,
   "id": "2b593b18",
   "metadata": {
    "scrolled": true
   },
   "outputs": [
    {
     "data": {
      "text/plain": [
       "17770"
      ]
     },
     "execution_count": 24,
     "metadata": {},
     "output_type": "execute_result"
    }
   ],
   "source": [
    "df_netflix_catalog.count()"
   ]
  },
  {
   "cell_type": "markdown",
   "id": "e39c09fb",
   "metadata": {},
   "source": [
    "## Combinando DFs de catálogo e avaliações"
   ]
  },
  {
   "cell_type": "code",
   "execution_count": 33,
   "id": "ea5b9dd6",
   "metadata": {},
   "outputs": [],
   "source": [
    "df_netflix = df_netflix_catalog.join(df_netflix_rating_avg, on='movie_id', how='left')"
   ]
  },
  {
   "cell_type": "code",
   "execution_count": 34,
   "id": "bbe68464",
   "metadata": {
    "scrolled": true
   },
   "outputs": [
    {
     "name": "stdout",
     "output_type": "stream",
     "text": [
      "+--------+----+----------------------------+----------+----------+\n",
      "|movie_id|year|movie_title                 |rating_avg|qty_rating|\n",
      "+--------+----+----------------------------+----------+----------+\n",
      "|1       |2003|dinosaur planet             |3.7       |547       |\n",
      "|2       |2004|isle of man tt 2004 review  |3.6       |145       |\n",
      "|3       |1997|character                   |3.6       |2012      |\n",
      "|4       |1994|paula abdul's get up & dance|2.7       |142       |\n",
      "|5       |2004|the rise and fall of ecw    |3.9       |1140      |\n",
      "|6       |1997|sick                        |3.1       |1019      |\n",
      "|7       |1992|8 man                       |2.1       |93        |\n",
      "|8       |2004|what the #$*! do we know!?  |3.2       |14910     |\n",
      "|9       |1991|class of nuke 'em high 2    |2.6       |95        |\n",
      "|10      |2001|fighter                     |3.2       |249       |\n",
      "+--------+----+----------------------------+----------+----------+\n",
      "only showing top 10 rows\n",
      "\n"
     ]
    }
   ],
   "source": [
    "df_netflix.orderBy(col('movie_id')).show(10, truncate=False)"
   ]
  },
  {
   "cell_type": "markdown",
   "id": "d3e9328e",
   "metadata": {},
   "source": [
    "Adicionando coluna com informação da empresa no DF"
   ]
  },
  {
   "cell_type": "code",
   "execution_count": 35,
   "id": "8e0776eb",
   "metadata": {},
   "outputs": [],
   "source": [
    "df_netflix = df_netflix.withColumn('company',lit('Netflix'))"
   ]
  },
  {
   "cell_type": "code",
   "execution_count": 36,
   "id": "93087a80",
   "metadata": {},
   "outputs": [
    {
     "name": "stdout",
     "output_type": "stream",
     "text": [
      "root\n",
      " |-- movie_id: integer (nullable = true)\n",
      " |-- year: integer (nullable = true)\n",
      " |-- movie_title: string (nullable = true)\n",
      " |-- rating_avg: double (nullable = true)\n",
      " |-- qty_rating: long (nullable = true)\n",
      " |-- company: string (nullable = false)\n",
      "\n"
     ]
    }
   ],
   "source": [
    "df_netflix.printSchema()"
   ]
  },
  {
   "cell_type": "code",
   "execution_count": 37,
   "id": "59e49578",
   "metadata": {},
   "outputs": [
    {
     "name": "stdout",
     "output_type": "stream",
     "text": [
      "+--------+----+----------------------------+----------+----------+-------+\n",
      "|movie_id|year|movie_title                 |rating_avg|qty_rating|company|\n",
      "+--------+----+----------------------------+----------+----------+-------+\n",
      "|1       |2003|dinosaur planet             |3.7       |547       |Netflix|\n",
      "|2       |2004|isle of man tt 2004 review  |3.6       |145       |Netflix|\n",
      "|3       |1997|character                   |3.6       |2012      |Netflix|\n",
      "|4       |1994|paula abdul's get up & dance|2.7       |142       |Netflix|\n",
      "|5       |2004|the rise and fall of ecw    |3.9       |1140      |Netflix|\n",
      "|6       |1997|sick                        |3.1       |1019      |Netflix|\n",
      "|7       |1992|8 man                       |2.1       |93        |Netflix|\n",
      "|8       |2004|what the #$*! do we know!?  |3.2       |14910     |Netflix|\n",
      "|9       |1991|class of nuke 'em high 2    |2.6       |95        |Netflix|\n",
      "|10      |2001|fighter                     |3.2       |249       |Netflix|\n",
      "+--------+----+----------------------------+----------+----------+-------+\n",
      "only showing top 10 rows\n",
      "\n"
     ]
    }
   ],
   "source": [
    "df_netflix.orderBy(col('movie_id')).show(10, truncate=False)"
   ]
  },
  {
   "cell_type": "markdown",
   "id": "3d909ae3",
   "metadata": {},
   "source": [
    "## Amazon"
   ]
  },
  {
   "cell_type": "markdown",
   "id": "2ed2fb22",
   "metadata": {},
   "source": [
    "Criação de DF geral de dados a partir do dataset"
   ]
  },
  {
   "cell_type": "code",
   "execution_count": 38,
   "id": "acc754fb",
   "metadata": {},
   "outputs": [],
   "source": [
    "ds_amazon_file_list = []\n",
    "\n",
    "for filename in os.listdir(path_raw + '\\\\amazon'):\n",
    "    if (re.search('^amazon_reviews_us_.*.tsv$', filename) is not None):\n",
    "        ds_amazon_file_list.append(path_raw + '\\\\amazon' + '\\\\' + filename)"
   ]
  },
  {
   "cell_type": "code",
   "execution_count": 39,
   "id": "41c5a022",
   "metadata": {},
   "outputs": [
    {
     "name": "stdout",
     "output_type": "stream",
     "text": [
      "Wall time: 7min 59s\n"
     ]
    }
   ],
   "source": [
    "%%time\n",
    "df_amazon_data = scSpark.read.csv(ds_amazon_file_list, inferSchema=True, header=True, sep=r'\\t').select('product_id', 'product_title', 'star_rating', 'review_date')"
   ]
  },
  {
   "cell_type": "code",
   "execution_count": 40,
   "id": "cfacc524",
   "metadata": {},
   "outputs": [
    {
     "name": "stdout",
     "output_type": "stream",
     "text": [
      "root\n",
      " |-- product_id: string (nullable = true)\n",
      " |-- product_title: string (nullable = true)\n",
      " |-- star_rating: integer (nullable = true)\n",
      " |-- review_date: timestamp (nullable = true)\n",
      "\n"
     ]
    }
   ],
   "source": [
    "df_amazon_data.printSchema()"
   ]
  },
  {
   "cell_type": "code",
   "execution_count": 42,
   "id": "6aa66a2d",
   "metadata": {},
   "outputs": [
    {
     "data": {
      "text/plain": [
       "DataFrame[movie_id: string, movie_title: string, rating: int, review_date: timestamp]"
      ]
     },
     "execution_count": 42,
     "metadata": {},
     "output_type": "execute_result"
    }
   ],
   "source": [
    "df_amazon_data.select(col('product_id').alias('movie_id')\\\n",
    ",col('product_title').alias('movie_title')\\\n",
    ",col('star_rating').alias('rating')\\\n",
    ",col('review_date')\n",
    ")"
   ]
  },
  {
   "cell_type": "code",
   "execution_count": 43,
   "id": "2443900f",
   "metadata": {
    "scrolled": false
   },
   "outputs": [
    {
     "name": "stdout",
     "output_type": "stream",
     "text": [
      "+----------+--------------------+-----------+-------------------+\n",
      "|product_id|       product_title|star_rating|        review_date|\n",
      "+----------+--------------------+-----------+-------------------+\n",
      "|B00AYB1482|Enlightened: Seas...|          5|2015-08-31 00:00:00|\n",
      "|B00KQD28OM|             Vicious|          5|2015-08-31 00:00:00|\n",
      "|B01489L5LQ|         After Words|          4|2015-08-31 00:00:00|\n",
      "|B008LOVIIK|Masterpiece: Insp...|          5|2015-08-31 00:00:00|\n",
      "|B0094LZMT0|   On The Waterfront|          5|2015-08-31 00:00:00|\n",
      "|B0112OSOQE|Rick and Morty Se...|          5|2015-08-31 00:00:00|\n",
      "|B000NPE5SA|      Africa Screams|          4|2015-08-31 00:00:00|\n",
      "|B00XWV4QXG| Entourage: Season 7|          3|2015-08-31 00:00:00|\n",
      "|B00X8UKOUK|Catastrophe - Sea...|          2|2015-08-31 00:00:00|\n",
      "|B00OOKXTFU|The Worricker Tri...|          3|2015-08-31 00:00:00|\n",
      "+----------+--------------------+-----------+-------------------+\n",
      "only showing top 10 rows\n",
      "\n"
     ]
    }
   ],
   "source": [
    "df_amazon_data.show(10)"
   ]
  },
  {
   "cell_type": "markdown",
   "id": "1d61472f",
   "metadata": {},
   "source": [
    "### Ano de lançamento"
   ]
  },
  {
   "cell_type": "markdown",
   "id": "c8a4ccf8",
   "metadata": {},
   "source": [
    "Estimando o ano de lançamento do filme com base no voto mais antigo"
   ]
  },
  {
   "cell_type": "code",
   "execution_count": 44,
   "id": "52172300",
   "metadata": {},
   "outputs": [],
   "source": [
    "df_amazon_year = df_amazon_data.select(col('product_id').alias('movie_id'),col('review_date'))\\\n",
    "    .filter(df_amazon_data.review_date. isNotNull())\\\n",
    "    .orderBy(col('review_date'))"
   ]
  },
  {
   "cell_type": "code",
   "execution_count": 45,
   "id": "a63ede42",
   "metadata": {},
   "outputs": [],
   "source": [
    "df_amazon_year = df_amazon_year.groupBy('movie_id')\\\n",
    "    .agg(first('review_date').alias('year'))\\\n",
    "    .withColumn('year', year('year'))"
   ]
  },
  {
   "cell_type": "code",
   "execution_count": 46,
   "id": "efa2d9c5",
   "metadata": {},
   "outputs": [
    {
     "name": "stdout",
     "output_type": "stream",
     "text": [
      "+----------+----+\n",
      "|  movie_id|year|\n",
      "+----------+----+\n",
      "|6300181251|1997|\n",
      "|6304873530|1998|\n",
      "|6302917034|1998|\n",
      "|6304492405|1998|\n",
      "|6304684495|1998|\n",
      "|6303471463|1998|\n",
      "|6302227135|1998|\n",
      "|6301334345|1998|\n",
      "|6303402666|1998|\n",
      "|6305123667|1998|\n",
      "+----------+----+\n",
      "only showing top 10 rows\n",
      "\n"
     ]
    }
   ],
   "source": [
    "df_amazon_year.show(10)"
   ]
  },
  {
   "cell_type": "markdown",
   "id": "bd80568c",
   "metadata": {},
   "source": [
    "### Código e nome dos filmes"
   ]
  },
  {
   "cell_type": "markdown",
   "id": "22701335",
   "metadata": {},
   "source": [
    "Criação de DF com informações do código e título dos filmes"
   ]
  },
  {
   "cell_type": "code",
   "execution_count": 47,
   "id": "21e4a9b0",
   "metadata": {},
   "outputs": [],
   "source": [
    "df_amazon_title = df_amazon_data.select(col('product_id').alias('movie_id'), col('product_title').alias('movie_title'))"
   ]
  },
  {
   "cell_type": "code",
   "execution_count": 48,
   "id": "8d30e96c",
   "metadata": {},
   "outputs": [
    {
     "name": "stdout",
     "output_type": "stream",
     "text": [
      "+----------+--------------------+\n",
      "|  movie_id|         movie_title|\n",
      "+----------+--------------------+\n",
      "|B00AYB1482|Enlightened: Seas...|\n",
      "|B00KQD28OM|             Vicious|\n",
      "|B01489L5LQ|         After Words|\n",
      "|B008LOVIIK|Masterpiece: Insp...|\n",
      "|B0094LZMT0|   On The Waterfront|\n",
      "|B0112OSOQE|Rick and Morty Se...|\n",
      "|B000NPE5SA|      Africa Screams|\n",
      "|B00XWV4QXG| Entourage: Season 7|\n",
      "|B00X8UKOUK|Catastrophe - Sea...|\n",
      "|B00OOKXTFU|The Worricker Tri...|\n",
      "+----------+--------------------+\n",
      "only showing top 10 rows\n",
      "\n"
     ]
    }
   ],
   "source": [
    "df_amazon_title.show(10)"
   ]
  },
  {
   "cell_type": "code",
   "execution_count": 49,
   "id": "14d5cc26",
   "metadata": {},
   "outputs": [],
   "source": [
    "df_amazon_title = df_amazon_title.groupBy('movie_id').agg(first('movie_title').alias('movie_title'))"
   ]
  },
  {
   "cell_type": "code",
   "execution_count": 50,
   "id": "fd3618e0",
   "metadata": {},
   "outputs": [
    {
     "name": "stdout",
     "output_type": "stream",
     "text": [
      "+----------+--------------------+\n",
      "|  movie_id|         movie_title|\n",
      "+----------+--------------------+\n",
      "|0000143502|Rise and Swine (G...|\n",
      "|0000143529|My Fair Pastry (G...|\n",
      "|000014357X|Everyday Italian ...|\n",
      "|0000791156|Spirit Led—Moving...|\n",
      "|0001499572|At Home with the ...|\n",
      "|0001527665|   Peace Child [VHS]|\n",
      "|0005000009|Where Jesus Walke...|\n",
      "|0005022290|Live! The Young M...|\n",
      "|0005041104|Camp Harmony (Rob...|\n",
      "|0005048524|Dinosaurs and the...|\n",
      "+----------+--------------------+\n",
      "only showing top 10 rows\n",
      "\n"
     ]
    }
   ],
   "source": [
    "df_amazon_title.show(10)"
   ]
  },
  {
   "cell_type": "markdown",
   "id": "ac1087f7",
   "metadata": {},
   "source": [
    "Limpeza do campo título"
   ]
  },
  {
   "cell_type": "code",
   "execution_count": 51,
   "id": "95ee3c9b",
   "metadata": {
    "scrolled": true
   },
   "outputs": [],
   "source": [
    "# Alterando título para lower case\n",
    "df_amazon_title = df_amazon_title.withColumn('movie_title', lower(col('movie_title')))\n",
    "\n",
    "# Remoção de espaços duplos\n",
    "df_amazon_title = df_amazon_title.withColumn('movie_title', regexp_replace('movie_title', '  ', ' '))\n",
    "\n",
    "# Remoção de espaços no inicío e fim\n",
    "df_amazon_title = df_amazon_title.withColumn('movie_title', trim(col('movie_title')))"
   ]
  },
  {
   "cell_type": "code",
   "execution_count": 52,
   "id": "79c11c21",
   "metadata": {},
   "outputs": [
    {
     "name": "stdout",
     "output_type": "stream",
     "text": [
      "+----------+----------------------------------------------------------------------------------------------------+\n",
      "|movie_id  |movie_title                                                                                         |\n",
      "+----------+----------------------------------------------------------------------------------------------------+\n",
      "|0000143502|rise and swine (good eats vol. 7)                                                                   |\n",
      "|0000143529|my fair pastry (good eats vol. 9)                                                                   |\n",
      "|000014357X|everyday italian with giada de laurentis v2: anytime italian                                        |\n",
      "|0000791156|spirit led—moving by grace in the holy spirit's gifts                                               |\n",
      "|0001499572|at home with the guitar [vhs]                                                                       |\n",
      "|0001527665|peace child [vhs]                                                                                   |\n",
      "|0005000009|where jesus walked [vhs]                                                                            |\n",
      "|0005022290|live! the young messiah [vhs]                                                                       |\n",
      "|0005041104|camp harmony (rob evans the donut man with duncan and the donut repair club) [vhs]                  |\n",
      "|0005048524|dinosaurs and the bible (creation science evangelism: creation seminar series, seminar part 3) [vhs]|\n",
      "+----------+----------------------------------------------------------------------------------------------------+\n",
      "only showing top 10 rows\n",
      "\n"
     ]
    }
   ],
   "source": [
    "df_amazon_title.show(10, truncate=False)"
   ]
  },
  {
   "cell_type": "markdown",
   "id": "0d97f942",
   "metadata": {},
   "source": [
    "### Avaliação por filme"
   ]
  },
  {
   "cell_type": "markdown",
   "id": "2828ba31",
   "metadata": {},
   "source": [
    "Criação de DF com código e avaliação"
   ]
  },
  {
   "cell_type": "code",
   "execution_count": 53,
   "id": "aeef4432",
   "metadata": {},
   "outputs": [],
   "source": [
    "df_amazon_rating = df_amazon_data.select(col('product_id').alias('movie_id'), col('star_rating').alias('rating'))"
   ]
  },
  {
   "cell_type": "code",
   "execution_count": 54,
   "id": "84bb87ba",
   "metadata": {},
   "outputs": [
    {
     "name": "stdout",
     "output_type": "stream",
     "text": [
      "+----------+------+\n",
      "|  movie_id|rating|\n",
      "+----------+------+\n",
      "|B00AYB1482|     5|\n",
      "|B00KQD28OM|     5|\n",
      "|B01489L5LQ|     4|\n",
      "|B008LOVIIK|     5|\n",
      "|B0094LZMT0|     5|\n",
      "|B0112OSOQE|     5|\n",
      "|B000NPE5SA|     4|\n",
      "|B00XWV4QXG|     3|\n",
      "|B00X8UKOUK|     2|\n",
      "|B00OOKXTFU|     3|\n",
      "+----------+------+\n",
      "only showing top 10 rows\n",
      "\n"
     ]
    }
   ],
   "source": [
    "df_amazon_rating.show(10)"
   ]
  },
  {
   "cell_type": "markdown",
   "id": "40d88be0",
   "metadata": {},
   "source": [
    "Criação de DF com avaliação média e quantidade de votos por filme"
   ]
  },
  {
   "cell_type": "code",
   "execution_count": 55,
   "id": "a45a78ba",
   "metadata": {},
   "outputs": [],
   "source": [
    "df_amazon_rating_avg = (df_amazon_rating\n",
    "    .groupBy(col('movie_id'))\n",
    "    .agg(round(avg('rating'),1).alias('rating_avg'),\n",
    "    count('rating').alias('qty_rating'))\n",
    ")"
   ]
  },
  {
   "cell_type": "code",
   "execution_count": 56,
   "id": "3e80c5c1",
   "metadata": {},
   "outputs": [
    {
     "name": "stdout",
     "output_type": "stream",
     "text": [
      "+----------+----------+----------+\n",
      "|  movie_id|rating_avg|qty_rating|\n",
      "+----------+----------+----------+\n",
      "|B002QUKA84|       4.0|         3|\n",
      "|B0035LFOGG|       4.4|        68|\n",
      "|B002XZHDJG|       4.8|        41|\n",
      "|B00UBRIHU2|       3.5|       269|\n",
      "|B001ACPEBC|       4.8|       642|\n",
      "|B00PRX640A|       4.1|       258|\n",
      "|B00ECSMSXI|       4.5|       268|\n",
      "|B000K28QEK|       3.8|        55|\n",
      "|B0088W6Y7K|       4.8|       113|\n",
      "|B009ZQA212|       4.3|        61|\n",
      "+----------+----------+----------+\n",
      "only showing top 10 rows\n",
      "\n"
     ]
    }
   ],
   "source": [
    "df_amazon_rating_avg.show(10)"
   ]
  },
  {
   "cell_type": "markdown",
   "id": "dd57a47b",
   "metadata": {},
   "source": [
    "## Combinando DFs de nomes, ano e avaliações"
   ]
  },
  {
   "cell_type": "code",
   "execution_count": 57,
   "id": "966887cf",
   "metadata": {},
   "outputs": [],
   "source": [
    "df_amazon = df_amazon_title.join(df_amazon_year, on='movie_id', how='left')\\\n",
    "    .join(df_amazon_rating_avg, on='movie_id', how='left')"
   ]
  },
  {
   "cell_type": "markdown",
   "id": "ad6f1e97",
   "metadata": {},
   "source": [
    "Reordenando as colunas para manter padronização"
   ]
  },
  {
   "cell_type": "code",
   "execution_count": 59,
   "id": "50230b46",
   "metadata": {},
   "outputs": [],
   "source": [
    "df_amazon = df_amazon.select('movie_id', 'year', 'movie_title', 'rating_avg', 'qty_rating')"
   ]
  },
  {
   "cell_type": "markdown",
   "id": "8bef30e9",
   "metadata": {},
   "source": [
    "Adicionando coluna com informação da empresa no DF"
   ]
  },
  {
   "cell_type": "code",
   "execution_count": 61,
   "id": "b6aea1dc",
   "metadata": {},
   "outputs": [],
   "source": [
    "df_amazon = df_amazon.withColumn('company',lit('Amazon'))"
   ]
  },
  {
   "cell_type": "code",
   "execution_count": 62,
   "id": "3812483e",
   "metadata": {},
   "outputs": [
    {
     "name": "stdout",
     "output_type": "stream",
     "text": [
      "+----------+----+--------------------+----------+----------+-------+\n",
      "|  movie_id|year|         movie_title|rating_avg|qty_rating|company|\n",
      "+----------+----+--------------------+----------+----------+-------+\n",
      "|0000143502|2013|rise and swine (g...|       5.0|         1| Amazon|\n",
      "|0000143529|2013|my fair pastry (g...|       5.0|         1| Amazon|\n",
      "|000014357X|2013|everyday italian ...|       4.8|         5| Amazon|\n",
      "|0000791156|2014|spirit led—moving...|       5.0|         2| Amazon|\n",
      "|0001499572|2015|at home with the ...|       5.0|         1| Amazon|\n",
      "|0001527665|2013|   peace child [vhs]|       5.0|         1| Amazon|\n",
      "|0005000009|2013|where jesus walke...|       1.0|         1| Amazon|\n",
      "|0005022290|2015|live! the young m...|       5.0|         1| Amazon|\n",
      "|0005041104|2009|camp harmony (rob...|       5.0|         1| Amazon|\n",
      "|0005048524|2011|dinosaurs and the...|       3.5|         2| Amazon|\n",
      "+----------+----+--------------------+----------+----------+-------+\n",
      "only showing top 10 rows\n",
      "\n"
     ]
    }
   ],
   "source": [
    "df_amazon.show(10)"
   ]
  },
  {
   "cell_type": "code",
   "execution_count": 63,
   "id": "b8188aaa",
   "metadata": {},
   "outputs": [
    {
     "name": "stdout",
     "output_type": "stream",
     "text": [
      "root\n",
      " |-- movie_id: string (nullable = true)\n",
      " |-- year: integer (nullable = true)\n",
      " |-- movie_title: string (nullable = true)\n",
      " |-- rating_avg: double (nullable = true)\n",
      " |-- qty_rating: long (nullable = true)\n",
      " |-- company: string (nullable = false)\n",
      "\n"
     ]
    }
   ],
   "source": [
    "df_amazon.printSchema()"
   ]
  },
  {
   "cell_type": "markdown",
   "id": "08875280",
   "metadata": {},
   "source": [
    "# Carregamento dos dados"
   ]
  },
  {
   "cell_type": "markdown",
   "id": "814481b5",
   "metadata": {},
   "source": [
    "Armazenando DF Netflix na camada Trusted"
   ]
  },
  {
   "cell_type": "code",
   "execution_count": 64,
   "id": "86783aeb",
   "metadata": {
    "collapsed": true
   },
   "outputs": [
    {
     "name": "stdout",
     "output_type": "stream",
     "text": [
      "Wall time: 26.7 s\n"
     ]
    }
   ],
   "source": [
    "df_netflix.write.option('header', 'true').format('csv').mode('overwrite').save(path_trusted + '\\\\df_netflix_data')"
   ]
  },
  {
   "cell_type": "markdown",
   "id": "d49da8d6",
   "metadata": {},
   "source": [
    "Armazenando DF Amazon na camada Trusted"
   ]
  },
  {
   "cell_type": "code",
   "execution_count": 65,
   "id": "4c7fb3ee",
   "metadata": {
    "collapsed": true
   },
   "outputs": [
    {
     "name": "stdout",
     "output_type": "stream",
     "text": [
      "Wall time: 31min 31s\n"
     ]
    }
   ],
   "source": [
    "df_amazon.write.option('header', 'true').format('csv').mode('overwrite').save(path_trusted + '\\\\df_amazon_data')"
   ]
  },
  {
   "cell_type": "markdown",
   "id": "9e5943a5",
   "metadata": {},
   "source": [
    "Combinando os DFs Amazon e Netflix e armazenando na camada Trusted"
   ]
  },
  {
   "cell_type": "code",
   "execution_count": 66,
   "id": "d706bde3",
   "metadata": {},
   "outputs": [],
   "source": [
    "df_complete = df_netflix.unionByName(df_amazon)"
   ]
  },
  {
   "cell_type": "code",
   "execution_count": null,
   "id": "626bdf5c",
   "metadata": {},
   "outputs": [],
   "source": [
    "df_complete.write.option('header', 'true').mode('overwrite').parquet(path_trusted + '\\\\parquet_complete_data') "
   ]
  },
  {
   "cell_type": "markdown",
   "id": "aab94018",
   "metadata": {},
   "source": [
    "# Consultas SQL"
   ]
  },
  {
   "cell_type": "code",
   "execution_count": null,
   "id": "9ef05f89",
   "metadata": {},
   "outputs": [],
   "source": [
    "parquet_file = scSpark.read.parquet(path_trusted + '\\\\parquet_complete_data')"
   ]
  },
  {
   "cell_type": "code",
   "execution_count": null,
   "id": "9b00d632",
   "metadata": {},
   "outputs": [],
   "source": [
    "parquet_file.createOrReplaceTempView('parquet_complete')"
   ]
  },
  {
   "cell_type": "code",
   "execution_count": null,
   "id": "7be8471a",
   "metadata": {
    "scrolled": true
   },
   "outputs": [],
   "source": [
    "scSpark.sql('SELECT * FROM parquet_complete').show(10)"
   ]
  },
  {
   "cell_type": "markdown",
   "id": "291240f9",
   "metadata": {},
   "source": [
    "## Quantos filmes estão disponíveis na Amazon?"
   ]
  },
  {
   "cell_type": "code",
   "execution_count": null,
   "id": "d262ddcc",
   "metadata": {},
   "outputs": [],
   "source": [
    "sql_amazon_qty = \"\"\"\n",
    "SELECT COUNT(movie_title) AS qty_movies_amazon\n",
    "FROM parquet_complete\n",
    "WHERE company = 'Amazon'\n",
    "\"\"\""
   ]
  },
  {
   "cell_type": "code",
   "execution_count": null,
   "id": "21937c6e",
   "metadata": {},
   "outputs": [],
   "source": [
    "scSpark.sql(sql_amazon_qty).show()"
   ]
  },
  {
   "cell_type": "markdown",
   "id": "c1198e59",
   "metadata": {},
   "source": [
    "## Quantos filmes estão disponíveis na Netflix?"
   ]
  },
  {
   "cell_type": "code",
   "execution_count": null,
   "id": "3f934c8b",
   "metadata": {},
   "outputs": [],
   "source": [
    "sql_netflix_qty = \"\"\"\n",
    "SELECT COUNT(movie_title) AS qty_movies_netflix\n",
    "FROM parquet_complete\n",
    "WHERE company = 'Netflix'\n",
    "\"\"\""
   ]
  },
  {
   "cell_type": "code",
   "execution_count": null,
   "id": "11a22054",
   "metadata": {},
   "outputs": [],
   "source": [
    "scSpark.sql(sql_netflix_qty).show()"
   ]
  },
  {
   "cell_type": "markdown",
   "id": "0db2f140",
   "metadata": {},
   "source": [
    "## Dos filmes disponíveis na Amazon, quantos % estão disponíveis na Netflix?"
   ]
  },
  {
   "cell_type": "code",
   "execution_count": null,
   "id": "bb294b16",
   "metadata": {},
   "outputs": [],
   "source": [
    "sql_amazon_in_netflix = \"\"\"\n",
    "SELECT num.qty_amazon_in_netflix / den.qty_amazon\n",
    "FROM\n",
    "  (SELECT count(*) AS qty_amazon_in_netflix\n",
    "   FROM\n",
    "     (SELECT movie_title AS movie_title_amazon\n",
    "      FROM parquet_complete\n",
    "      WHERE company = 'Amazon') AS amazon\n",
    "   LEFT JOIN\n",
    "     (SELECT movie_title AS movie_title_netflix\n",
    "      FROM parquet_complete\n",
    "      WHERE company = 'Netflix') AS netflix ON (amazon.movie_title_amazon = netflix.movie_title_netflix)\n",
    "   WHERE movie_title_netflix IS NOT NULL ) AS num\n",
    "JOIN\n",
    "  (SELECT COUNT(movie_title) AS qty_amazon\n",
    "   FROM parquet_complete\n",
    "   WHERE company = 'Amazon' ) AS den ON 1=1\n",
    "\"\"\""
   ]
  },
  {
   "cell_type": "code",
   "execution_count": null,
   "id": "f3563c56",
   "metadata": {},
   "outputs": [],
   "source": [
    "scSpark.sql(sql_amazon_in_netflix).show()"
   ]
  },
  {
   "cell_type": "markdown",
   "id": "63a3c614",
   "metadata": {},
   "source": [
    "## O quão perto a médias das notas dos filmes disponíveis na Amazon está dos filmes disponíveis na Netflix?"
   ]
  },
  {
   "cell_type": "code",
   "execution_count": null,
   "id": "32b5f3d0",
   "metadata": {},
   "outputs": [],
   "source": [
    "sql_avg_rating = \"\"\"\n",
    "SELECT company,\n",
    "       ROUND(AVG(rating_avg), 2) AS rating_avg\n",
    "FROM parquet_complete\n",
    "GROUP BY company\n",
    "\"\"\""
   ]
  },
  {
   "cell_type": "code",
   "execution_count": null,
   "id": "f375ca99",
   "metadata": {},
   "outputs": [],
   "source": [
    "scSpark.sql(sql_avg_rating).show(5)"
   ]
  },
  {
   "cell_type": "markdown",
   "id": "59965bf4",
   "metadata": {},
   "source": [
    "## Qual ano de lançamento possui mais filmes na Amazon?"
   ]
  },
  {
   "cell_type": "code",
   "execution_count": null,
   "id": "cc4b0c11",
   "metadata": {},
   "outputs": [],
   "source": [
    "sql_amazon_biggest_year = \"\"\"\n",
    "SELECT year,\n",
    "       count(*) AS qty\n",
    "FROM parquet_complete\n",
    "WHERE company = 'Amazon'\n",
    "GROUP BY year\n",
    "ORDER BY qty DESC\n",
    "LIMIT 1\n",
    "\"\"\""
   ]
  },
  {
   "cell_type": "code",
   "execution_count": null,
   "id": "2e56fd1e",
   "metadata": {},
   "outputs": [],
   "source": [
    "scSpark.sql(sql_amazon_biggest_year).show()"
   ]
  },
  {
   "cell_type": "markdown",
   "id": "a7f3b77c",
   "metadata": {},
   "source": [
    "## Qual ano de lançamento possui mais filmes na Netflix?"
   ]
  },
  {
   "cell_type": "code",
   "execution_count": null,
   "id": "47ddebe5",
   "metadata": {},
   "outputs": [],
   "source": [
    "sql_netflix_biggest_year = \"\"\"\n",
    "SELECT year,\n",
    "       count(*) AS qty\n",
    "FROM parquet_complete\n",
    "WHERE company = 'Netflix'\n",
    "GROUP BY year\n",
    "ORDER BY qty DESC\n",
    "LIMIT 1\n",
    "\"\"\""
   ]
  },
  {
   "cell_type": "code",
   "execution_count": null,
   "id": "3e724824",
   "metadata": {},
   "outputs": [],
   "source": [
    "scSpark.sql(sql_netflix_biggest_year).show()"
   ]
  },
  {
   "cell_type": "markdown",
   "id": "b9626559",
   "metadata": {},
   "source": [
    "## Quais filmes que não estão disponíveis no catálogo da Netflix foram melhor avaliados (notas 4 e 5)?"
   ]
  },
  {
   "cell_type": "code",
   "execution_count": null,
   "id": "198a3277",
   "metadata": {},
   "outputs": [],
   "source": [
    "sql_best_rating_not_in_netflix = \"\"\"\n",
    "SELECT amazon.movie_title,\n",
    "       amazon.rating_avg\n",
    "FROM\n",
    "  (SELECT movie_title,\n",
    "          rating_avg\n",
    "   FROM parquet_complete\n",
    "   WHERE company = 'Amazon') AS amazon\n",
    "LEFT JOIN\n",
    "  (SELECT movie_title,\n",
    "          rating_avg\n",
    "   FROM parquet_complete\n",
    "   WHERE company = 'Netflix') AS netflix ON (amazon.movie_title = netflix.movie_title)\n",
    "WHERE amazon.rating_avg >=4\n",
    "  AND netflix.movie_title IS NULL\n",
    "\"\"\""
   ]
  },
  {
   "cell_type": "code",
   "execution_count": null,
   "id": "ce836a64",
   "metadata": {
    "scrolled": false
   },
   "outputs": [],
   "source": [
    "scSpark.sql(sql_best_rating_not_in_netflix).show(10)"
   ]
  },
  {
   "cell_type": "code",
   "execution_count": null,
   "id": "3cefe6b4",
   "metadata": {},
   "outputs": [],
   "source": [
    "sql_best_rating_not_in_netflix_qty = \"\"\"\n",
    "SELECT count(*) AS qty\n",
    "FROM\n",
    "  (SELECT movie_title,\n",
    "          rating_avg\n",
    "   FROM parquet_complete\n",
    "   WHERE company = 'Amazon') AS amazon\n",
    "LEFT JOIN\n",
    "  (SELECT movie_title,\n",
    "          rating_avg\n",
    "   FROM parquet_complete\n",
    "   WHERE company = 'Netflix') AS netflix ON (amazon.movie_title = netflix.movie_title)\n",
    "WHERE amazon.rating_avg >=4\n",
    "  AND netflix.movie_title IS NULL\n",
    "\"\"\""
   ]
  },
  {
   "cell_type": "code",
   "execution_count": null,
   "id": "960ef0c0",
   "metadata": {
    "scrolled": true
   },
   "outputs": [],
   "source": [
    "scSpark.sql(sql_best_rating_not_in_netflix_qty).show()"
   ]
  },
  {
   "cell_type": "markdown",
   "id": "07e20a36",
   "metadata": {},
   "source": [
    "## Quais filmes que não estão disponíveis no catálogo da Amazon foram melhor avaliados (notas 4 e 5)?"
   ]
  },
  {
   "cell_type": "code",
   "execution_count": null,
   "id": "455d1240",
   "metadata": {},
   "outputs": [],
   "source": [
    "sql_best_rating_not_in_amazon = \"\"\"\n",
    "SELECT netflix.movie_title,\n",
    "       netflix.rating_avg\n",
    "FROM\n",
    "  (SELECT movie_title,\n",
    "          rating_avg\n",
    "   FROM parquet_complete\n",
    "   WHERE company = 'Netflix') AS netflix\n",
    "LEFT JOIN\n",
    "  (SELECT movie_title,\n",
    "          rating_avg\n",
    "   FROM parquet_complete\n",
    "   WHERE company = 'Amazon') AS amazon ON (netflix.movie_title = amazon.movie_title)\n",
    "WHERE netflix.rating_avg >=4\n",
    "  AND amazon.movie_title IS NULL\n",
    "\"\"\""
   ]
  },
  {
   "cell_type": "code",
   "execution_count": null,
   "id": "c517e869",
   "metadata": {
    "scrolled": false
   },
   "outputs": [],
   "source": [
    "scSpark.sql(sql_best_rating_not_in_amazon).show(10)"
   ]
  },
  {
   "cell_type": "code",
   "execution_count": null,
   "id": "dfd9bc20",
   "metadata": {},
   "outputs": [],
   "source": [
    "sql_best_rating_not_in_amazon_qty = \"\"\"\n",
    "SELECT count(*) as qty\n",
    "FROM\n",
    "  (SELECT movie_title,\n",
    "          rating_avg\n",
    "   FROM parquet_complete\n",
    "   WHERE company = 'Netflix') AS netflix\n",
    "LEFT JOIN\n",
    "  (SELECT movie_title,\n",
    "          rating_avg\n",
    "   FROM parquet_complete\n",
    "   WHERE company = 'Amazon') AS amazon ON (netflix.movie_title = amazon.movie_title)\n",
    "WHERE netflix.rating_avg >=4\n",
    "  AND amazon.movie_title IS NULL\n",
    "\"\"\""
   ]
  },
  {
   "cell_type": "code",
   "execution_count": null,
   "id": "a10f0b46",
   "metadata": {
    "scrolled": true
   },
   "outputs": [],
   "source": [
    "scSpark.sql(sql_best_rating_not_in_amazon_qty).show()"
   ]
  }
 ],
 "metadata": {
  "kernelspec": {
   "display_name": "Python 3 (ipykernel)",
   "language": "python",
   "name": "python3"
  },
  "language_info": {
   "codemirror_mode": {
    "name": "ipython",
    "version": 3
   },
   "file_extension": ".py",
   "mimetype": "text/x-python",
   "name": "python",
   "nbconvert_exporter": "python",
   "pygments_lexer": "ipython3",
   "version": "3.9.7"
  }
 },
 "nbformat": 4,
 "nbformat_minor": 5
}
